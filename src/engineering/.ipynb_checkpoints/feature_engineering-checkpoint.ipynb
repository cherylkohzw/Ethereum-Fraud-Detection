{
 "cells": [
  {
   "cell_type": "code",
   "execution_count": 3,
   "id": "6dc0d798-a602-40da-a292-88358058fe72",
   "metadata": {},
   "outputs": [
    {
     "name": "stdout",
     "output_type": "stream",
     "text": [
      "Saved engineered data to /Users/maverick/IS4303/Ethereum-Fraud-Detection/data/engineered/engineered_with_ratios.csv\n"
     ]
    }
   ],
   "source": [
    "import pandas as pd\n",
    "import os\n",
    "\n",
    "# Get project root based on current working directory\n",
    "PROJECT_ROOT = os.path.abspath(os.path.join(os.getcwd(), \"../..\"))\n",
    "input_path = os.path.join(PROJECT_ROOT, \"data/processed/cleaned_ethereum_fraud_data.csv\")\n",
    "output_dir = os.path.join(PROJECT_ROOT, \"data/engineered\")\n",
    "\n",
    "def compute_ratio_features(input_path, output_dir):\n",
    "    # Load dataset\n",
    "    df = pd.read_csv(input_path)\n",
    "\n",
    "    # Avoid division by zero with small constant\n",
    "    eps = 1e-5\n",
    "\n",
    "    # Compute ratio features\n",
    "    df[\"sent_to_received_ratio\"] = df[\"total_sent\"] / (df[\"total_received\"] + eps)\n",
    "    df[\"avg_sent_to_avg_received\"] = df[\"avg_transaction_sent\"] / (df[\"avg_transaction_received\"] + eps)\n",
    "    df[\"interaction_with_contract_ratio\"] = df[\"contract_interaction\"] / (\n",
    "        df[\"transaction_frequency_sent\"] + df[\"transaction_frequency_received\"] + eps\n",
    "    )\n",
    "\n",
    "    # Create output directory if it doesn't exist\n",
    "    os.makedirs(output_dir, exist_ok=True)\n",
    "\n",
    "    # Save to CSV\n",
    "    output_path = os.path.join(output_dir, \"engineered_with_ratios.csv\")\n",
    "    df.to_csv(output_path, index=False)\n",
    "\n",
    "    print(f\"Saved engineered data to {output_path}\")\n",
    "\n",
    "# Run the function\n",
    "compute_ratio_features(input_path, output_dir)\n"
   ]
  },
  {
   "cell_type": "code",
   "execution_count": null,
   "id": "ea37fbb1-bb74-4f66-8e16-efd2e8f86220",
   "metadata": {},
   "outputs": [],
   "source": []
  }
 ],
 "metadata": {
  "kernelspec": {
   "display_name": "Python 3 (ipykernel)",
   "language": "python",
   "name": "python3"
  },
  "language_info": {
   "codemirror_mode": {
    "name": "ipython",
    "version": 3
   },
   "file_extension": ".py",
   "mimetype": "text/x-python",
   "name": "python",
   "nbconvert_exporter": "python",
   "pygments_lexer": "ipython3",
   "version": "3.12.8"
  }
 },
 "nbformat": 4,
 "nbformat_minor": 5
}
