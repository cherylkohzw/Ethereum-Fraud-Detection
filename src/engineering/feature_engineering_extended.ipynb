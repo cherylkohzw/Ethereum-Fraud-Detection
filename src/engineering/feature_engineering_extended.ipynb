{
 "cells": [
  {
   "cell_type": "code",
   "execution_count": 4,
   "metadata": {},
   "outputs": [
    {
     "name": "stdout",
     "output_type": "stream",
     "text": [
      "Saved extended features to: /Users/jadaloau/Desktop/y2/sem2/is4303/project/project_code/Ethereum-Fraud-Detection/data/engineered/engineered_extended.csv\n"
     ]
    }
   ],
   "source": [
    "import pandas as pd\n",
    "import numpy as np\n",
    "import os\n",
    "\n",
    "# Set paths\n",
    "PROJECT_ROOT = os.path.abspath(os.path.join(os.getcwd(), \"../..\"))\n",
    "input_path = os.path.join(PROJECT_ROOT, \"data/engineered/engineered_with_ratios.csv\")\n",
    "output_path = os.path.join(PROJECT_ROOT, \"data/engineered/engineered_extended.csv\")\n",
    "\n",
    "def extend_features(df):\n",
    "    eps = 1e-5  # small constant to avoid division by zero or log(0)\n",
    "\n",
    "    # 1. Flags wallets in the top 5% of account_balance \n",
    "    threshold = df[\"account_balance\"].quantile(0.95)\n",
    "    df[\"is_high_balance\"] = (df[\"account_balance\"] > threshold).astype(int)\n",
    "\n",
    "    # 2. Flags wallets that sends/receives very frequently (<2 min between transactions)\n",
    "    df[\"high_txn_freq_flag\"] = (\n",
    "        (df[\"transaction_frequency_sent\"] < 2) |\n",
    "        (df[\"transaction_frequency_received\"] < 2)\n",
    "    ).astype(int)\n",
    "\n",
    "    # 3. Net flow of ETH (+ means net inflow of ETH, - means draining behaviour)\n",
    "    df[\"net_flow\"] = df[\"total_received\"] - df[\"total_sent\"]\n",
    "\n",
    "    # 4. Spread in transactions (volatility)\n",
    "    df[\"spread_sent\"] = df[\"max_transaction_sent\"] - df[\"min_transaction_sent\"]\n",
    "    df[\"spread_received\"] = df[\"avg_transaction_received\"] - df[\"min_transaction_received\"]\n",
    "\n",
    "    # 5. Contract activity flag (1 if wallet either interacted with or created smart contracts)\n",
    "    df[\"contract_activity_flag\"] = (\n",
    "        (df[\"contract_creation\"] > 0) |\n",
    "        (df[\"contract_interaction\"] > 0)\n",
    "    ).astype(int)\n",
    "\n",
    "    # 6. Log transformations for skewed data\n",
    "    df[\"log_balance\"] = np.log1p(df[\"account_balance\"].clip(lower=0))\n",
    "    df[\"log_txn_count\"] = np.log1p(\n",
    "        df[\"transaction_frequency_sent\"] + df[\"transaction_frequency_received\"]\n",
    "    )\n",
    "\n",
    "    return df\n",
    "\n",
    "def main():\n",
    "    # Load input dataset\n",
    "    df = pd.read_csv(input_path)\n",
    "\n",
    "    # Extend with new features\n",
    "    df_extended = extend_features(df)\n",
    "\n",
    "    # Save output\n",
    "    os.makedirs(os.path.dirname(output_path), exist_ok=True)\n",
    "    df_extended.to_csv(output_path, index=False)\n",
    "    print(f\"Saved extended features to: {output_path}\")\n",
    "\n",
    "if __name__ == \"__main__\":\n",
    "    main()\n"
   ]
  }
 ],
 "metadata": {
  "kernelspec": {
   "display_name": "base",
   "language": "python",
   "name": "python3"
  },
  "language_info": {
   "codemirror_mode": {
    "name": "ipython",
    "version": 3
   },
   "file_extension": ".py",
   "mimetype": "text/x-python",
   "name": "python",
   "nbconvert_exporter": "python",
   "pygments_lexer": "ipython3",
   "version": "3.11.7"
  }
 },
 "nbformat": 4,
 "nbformat_minor": 2
}
